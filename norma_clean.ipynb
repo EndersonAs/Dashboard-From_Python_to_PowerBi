{
 "cells": [
  {
   "cell_type": "markdown",
   "id": "3973924d",
   "metadata": {},
   "source": [
    "Normaliza nombres de columnas: minúsculas, sin espacios ni acentos."
   ]
  },
  {
   "cell_type": "code",
   "execution_count": 1,
   "id": "5af88c41",
   "metadata": {},
   "outputs": [
    {
     "name": "stdout",
     "output_type": "stream",
     "text": [
      "Empty DataFrame\n",
      "Columns: [Número Venta, Mes Salida, Dia Salida, Año Salida, Mes Entrega, Dia Entrega, Año Entrega, Método Envio, Número Cliente, Nombre Cliente, Segmento, Ciudad, Estado, País, ID Producto, Ventas, Cantidad, Descuento, Utilidad, Costo Envío, Prioridad Envio]\n",
      "Index: []\n",
      "\n",
      "[0 rows x 21 columns]\n"
     ]
    }
   ],
   "source": [
    "import os\n",
    "import pandas as pd\n",
    "\n",
    "ruta_excel = \"../data/raw/Sales report completa.xlsx\"\n",
    "df = pd.read_excel(ruta_excel)\n",
    "print(df.head(0))\n"
   ]
  },
  {
   "cell_type": "code",
   "execution_count": 2,
   "id": "2c558328",
   "metadata": {},
   "outputs": [
    {
     "name": "stdout",
     "output_type": "stream",
     "text": [
      "Index(['numero_venta', 'mes_salida', 'dia_salida', 'ano_salida', 'mes_entrega',\n",
      "       'dia_entrega', 'ano_entrega', 'metodo_envio', 'numero_cliente',\n",
      "       'nombre_cliente', 'segmento', 'ciudad', 'estado', 'pais', 'id_producto',\n",
      "       'ventas', 'cantidad', 'descuento', 'utilidad', 'costo_envio',\n",
      "       'prioridad_envio'],\n",
      "      dtype='object')\n"
     ]
    }
   ],
   "source": [
    "\n",
    "\n",
    "def estandarizar_columnas(df: pd.DataFrame) -> pd.DataFrame:\n",
    "    df.columns = (\n",
    "        df.columns\n",
    "        .str.strip()\n",
    "        .str.lower()\n",
    "        .str.replace(\" \", \"_\")\n",
    "         .str.replace(\"-\", \"_\")\n",
    "        .str.normalize(\"NFKD\")\n",
    "        .str.encode(\"ascii\", errors=\"ignore\")\n",
    "        .str.decode(\"utf-8\")\n",
    "    )\n",
    "    return df \n",
    "# Aplicar la función al dataframe que ya cargaste\n",
    "df = estandarizar_columnas(df)\n",
    "\n",
    "# Mostrar las nuevas columnas estandarizadas\n",
    "print(df.columns)"
   ]
  },
  {
   "cell_type": "markdown",
   "id": "898dd98c",
   "metadata": {},
   "source": [
    "Estandariza las tres primeras hojas del archivo Excel (Ventas Supermercado, Regiones, y Productos)"
   ]
  },
  {
   "cell_type": "code",
   "execution_count": 3,
   "id": "ddc40b8f",
   "metadata": {},
   "outputs": [
    {
     "name": "stdout",
     "output_type": "stream",
     "text": [
      "Columnas en hoja Ventas: ['numero_venta', 'mes_salida', 'dia_salida', 'ano_salida', 'mes_entrega', 'dia_entrega', 'ano_entrega', 'metodo_envio', 'numero_cliente', 'nombre_cliente', 'segmento', 'ciudad', 'estado', 'pais', 'id_producto', 'ventas', 'cantidad', 'descuento', 'utilidad', 'costo_envio', 'prioridad_envio']\n",
      "Columnas en hoja Regiones: ['pais', 'mercado', 'region']\n",
      "Columnas en hoja Productos: ['id_producto', 'categoria', 'sub_categoria', 'nombre_producto']\n"
     ]
    }
   ],
   "source": [
    "# Cargar cada hoja por separado\n",
    "ventas_df = pd.read_excel(ruta_excel, sheet_name=0)          # Primera hoja (Ventas Supermercado)\n",
    "regiones_df = pd.read_excel(ruta_excel, sheet_name=\"Regiones\")\n",
    "productos_df = pd.read_excel(ruta_excel, sheet_name=\"Productos\")\n",
    "\n",
    "# Estandarizar las columnas de cada uno\n",
    "ventas_df = estandarizar_columnas(ventas_df)\n",
    "regiones_df = estandarizar_columnas(regiones_df)\n",
    "productos_df = estandarizar_columnas(productos_df)\n",
    "\n",
    "# Mostrar los nombres de columnas como verificación\n",
    "print(\"Columnas en hoja Ventas:\", ventas_df.columns.tolist())\n",
    "print(\"Columnas en hoja Regiones:\", regiones_df.columns.tolist())\n",
    "print(\"Columnas en hoja Productos:\", productos_df.columns.tolist())\n"
   ]
  },
  {
   "cell_type": "markdown",
   "id": "052fe04a",
   "metadata": {},
   "source": [
    "Elimina los espacios en blanco innecesarios de la columna \"Método de envío\" Ejemplo: \" Standard  \tClass \" por \"Standard Class\""
   ]
  },
  {
   "cell_type": "code",
   "execution_count": 4,
   "id": "58c39ad0",
   "metadata": {},
   "outputs": [
    {
     "name": "stdout",
     "output_type": "stream",
     "text": [
      "['Standard Class' 'Second Class' 'First Class' 'Same Day']\n"
     ]
    }
   ],
   "source": [
    "def limpiar_espacios_metodo_envio(df: pd.DataFrame) -> pd.DataFrame:\n",
    "    if 'metodo_envio' in df.columns:\n",
    "        df['metodo_envio'] = df['metodo_envio'].astype(str).str.strip().str.replace(r'\\s+', ' ', regex=True)\n",
    "    else:\n",
    "        print(\"La columna 'metodo_envio' no existe en el DataFrame.\")\n",
    "    return df\n",
    "\n",
    "# Aplicar la función\n",
    "df = limpiar_espacios_metodo_envio(df)\n",
    "\n",
    "# Ver los valores únicos de la columna después de limpiar\n",
    "print(df['metodo_envio'].unique())\n"
   ]
  },
  {
   "cell_type": "markdown",
   "id": "11a3f250",
   "metadata": {},
   "source": [
    "Unificar Mes/Dia/Año de las fecha_envio y fecha_entrega"
   ]
  },
  {
   "cell_type": "code",
   "execution_count": 5,
   "id": "9b42c496",
   "metadata": {},
   "outputs": [
    {
     "name": "stdout",
     "output_type": "stream",
     "text": [
      "  fecha_salida fecha_entrega\n",
      "0   2011-01-01    2011-01-06\n",
      "1   2011-01-01    2011-01-08\n",
      "2   2011-01-01    2011-01-05\n",
      "3   2011-01-01    2011-01-05\n",
      "4   2011-01-01    2011-01-08\n",
      "Index(['numero_venta', 'mes_salida', 'dia_salida', 'ano_salida', 'mes_entrega',\n",
      "       'dia_entrega', 'ano_entrega', 'metodo_envio', 'numero_cliente',\n",
      "       'nombre_cliente', 'segmento', 'ciudad', 'estado', 'pais', 'id_producto',\n",
      "       'ventas', 'cantidad', 'descuento', 'utilidad', 'costo_envio',\n",
      "       'prioridad_envio', 'fecha_salida', 'fecha_entrega'],\n",
      "      dtype='object')\n"
     ]
    }
   ],
   "source": [
    "def convertir_fechas(df: pd.DataFrame) -> pd.DataFrame:\n",
    "    # Convertir las columnas de año, mes y día a números enteros (permitiendo nulos)\n",
    "    for col in ['ano_salida', 'mes_salida', 'dia_salida', 'ano_entrega', 'mes_entrega', 'dia_entrega']:\n",
    "        if col in df.columns:\n",
    "            df[col] = pd.to_numeric(df[col], errors='coerce').astype('Int64')  # 'Int64' permite NaN\n",
    "\n",
    "    # Crear columna de fecha_salida si existen las tres columnas necesarias\n",
    "    if {'ano_salida', 'mes_salida', 'dia_salida'}.issubset(df.columns):\n",
    "        df['fecha_salida'] = pd.to_datetime(\n",
    "            df[['ano_salida', 'mes_salida', 'dia_salida']].rename(\n",
    "                columns={\n",
    "                    'ano_salida': 'year',\n",
    "                    'mes_salida': 'month',\n",
    "                    'dia_salida': 'day'\n",
    "                }\n",
    "            ),\n",
    "            errors='coerce'\n",
    "        )\n",
    "        \n",
    "    # Crear columna de fecha_entrega si existen las tres columnas necesarias\n",
    "    if {'ano_entrega', 'mes_entrega', 'dia_entrega'}.issubset(df.columns):\n",
    "        df['fecha_entrega'] = pd.to_datetime(\n",
    "            df[['ano_entrega', 'mes_entrega', 'dia_entrega']].rename(\n",
    "                columns={\n",
    "                    'ano_entrega': 'year',\n",
    "                    'mes_entrega': 'month',\n",
    "                    'dia_entrega': 'day'\n",
    "                }\n",
    "            ),\n",
    "            errors='coerce'\n",
    "        )\n",
    "\n",
    "    return df\n",
    "\n",
    "# Aplicar la función al DataFrame\n",
    "df = convertir_fechas(df)\n",
    "\n",
    "# Verificar las nuevas columnas de fecha\n",
    "print(df[['fecha_salida', 'fecha_entrega']].head())\n",
    "print(df.columns)\n"
   ]
  },
  {
   "cell_type": "markdown",
   "id": "5fadae6e",
   "metadata": {},
   "source": [
    "Agrega una columna con los dias_transcurridos\" entre la Fecha Salida y Fecha \n",
    "Entrega. "
   ]
  },
  {
   "cell_type": "code",
   "execution_count": 6,
   "id": "bc6678f0",
   "metadata": {},
   "outputs": [
    {
     "name": "stdout",
     "output_type": "stream",
     "text": [
      "  fecha_salida fecha_entrega  duracion_envio\n",
      "0   2011-01-01    2011-01-06               5\n",
      "1   2011-01-01    2011-01-08               7\n",
      "2   2011-01-01    2011-01-05               4\n",
      "3   2011-01-01    2011-01-05               4\n",
      "4   2011-01-01    2011-01-08               7\n"
     ]
    }
   ],
   "source": [
    "def calcular_duracion_envio(df: pd.DataFrame) -> pd.DataFrame:\n",
    "    if {'fecha_salida', 'fecha_entrega'}.issubset(df.columns):\n",
    "        df['duracion_envio'] = (df['fecha_entrega'] - df['fecha_salida']).dt.days\n",
    "    else:\n",
    "        print(\"Las columnas 'fecha_salida' y/o 'fecha_entrega' no existen en el DataFrame.\")\n",
    "    return df\n",
    "\n",
    "# Aplicar la función al DataFrame\n",
    "df = calcular_duracion_envio(df)\n",
    "\n",
    "# Verificar resultado\n",
    "print(df[['fecha_salida', 'fecha_entrega', 'duracion_envio']].head())\n"
   ]
  },
  {
   "cell_type": "markdown",
   "id": "8cc7eb48",
   "metadata": {},
   "source": [
    "Agrega una columna con  id_venta unificando y pasando a mayusc: 2 iniciales de \n",
    "\"País\", \"Año Salida\" y \"Número Venta\" (ejemplo: Al-2011-2040). \n"
   ]
  },
  {
   "cell_type": "code",
   "execution_count": 7,
   "id": "929fbe47",
   "metadata": {},
   "outputs": [
    {
     "name": "stdout",
     "output_type": "stream",
     "text": [
      "        pais  ano_salida  numero_venta       id_venta\n",
      "0    Algeria        2011          2040   AL-2011-2040\n",
      "1  Australia        2011         47883  AU-2011-47883\n"
     ]
    }
   ],
   "source": [
    "def crear_id_venta(df: pd.DataFrame) -> pd.DataFrame:\n",
    "    if {'pais', 'ano_salida', 'numero_venta'}.issubset(df.columns):\n",
    "        # Asegurar que los datos sean cadenas y manejar valores faltantes\n",
    "        df['id_venta'] = (\n",
    "            df['pais'].astype(str).str.strip().str[:2]      # Primeras 2 letras del país\n",
    "            + '-' +\n",
    "            df['ano_salida'].astype(str).str.strip()        # Año de salida\n",
    "            + '-' +\n",
    "            df['numero_venta'].astype(str).str.strip()      # Número de venta\n",
    "        ).str.upper()  # Convertir todo a mayúsculas\n",
    "    else:\n",
    "        print(\"Faltan una o más columnas necesarias: 'pais', 'ano_salida', 'numero_venta'\")\n",
    "    return df\n",
    "\n",
    "# Aplicar la función\n",
    "df = crear_id_venta(df)\n",
    "\n",
    "# Verificar las primeras filas\n",
    "print(df[['pais', 'ano_salida', 'numero_venta', 'id_venta']].head(2))\n",
    "\n"
   ]
  },
  {
   "cell_type": "markdown",
   "id": "4040bf6d",
   "metadata": {},
   "source": [
    "Agrega una columna con id_cliente unificando: Inicial Nombre, Inicial Apellido y \n",
    "Número Cliente (ejemplo: TB-11280).  "
   ]
  },
  {
   "cell_type": "code",
   "execution_count": 8,
   "id": "7fa2c21f",
   "metadata": {},
   "outputs": [
    {
     "name": "stdout",
     "output_type": "stream",
     "text": [
      "    nombre_cliente  numero_cliente id_cliente\n",
      "0  Toby Braunhardt           11280   TB-11280\n",
      "1      Joseph Holt           15985   JH-15985\n"
     ]
    }
   ],
   "source": [
    "def crear_id_cliente_desde_nombre_completo(df: pd.DataFrame) -> pd.DataFrame:\n",
    "    if {'nombre_cliente', 'numero_cliente'}.issubset(df.columns):\n",
    "        # Separar nombre y apellido suponiendo que hay al menos dos palabras\n",
    "        partes = df['nombre_cliente'].astype(str).str.strip().str.split(expand=True)\n",
    "\n",
    "        # Tomar primera palabra como nombre y segunda como apellido (si existen)\n",
    "        df['inicial_nombre'] = partes[0].str[0]\n",
    "        df['inicial_apellido'] = partes[1].str[0] if partes.shape[1] > 1 else ''\n",
    "\n",
    "        # Crear el id_cliente combinando iniciales + número_cliente\n",
    "        df['id_cliente'] = (\n",
    "            df['inicial_nombre'].fillna('') +\n",
    "            df['inicial_apellido'].fillna('') +\n",
    "            '-' +\n",
    "            df['numero_cliente'].astype(str).str.strip()\n",
    "        ).str.upper()\n",
    "\n",
    "        # (Opcional) Eliminar las columnas auxiliares si no se quieren mostrar\n",
    "        df.drop(columns=['inicial_nombre', 'inicial_apellido'], inplace=True)\n",
    "\n",
    "    else:\n",
    "        print(\"Faltan columnas necesarias: 'nombre_cliente' y/o 'numero_cliente'\")\n",
    "    return df\n",
    "\n",
    "# Aplicar la función\n",
    "df = crear_id_cliente_desde_nombre_completo(df)\n",
    "\n",
    "# Verificar resultado\n",
    "print(df[['nombre_cliente', 'numero_cliente', 'id_cliente']].head(2))\n",
    "\n"
   ]
  },
  {
   "cell_type": "markdown",
   "id": "dfe6e747",
   "metadata": {},
   "source": [
    "Agrega las columnas mercado y región obteniéndose de la columna País y la Hoja \n",
    "Regiones dentro del mismo archivo excel."
   ]
  },
  {
   "cell_type": "code",
   "execution_count": 12,
   "id": "2b3d039a",
   "metadata": {},
   "outputs": [
    {
     "name": "stdout",
     "output_type": "stream",
     "text": [
      "   numero_venta  mes_salida  dia_salida  ano_salida  mes_entrega  dia_entrega  \\\n",
      "0          2040           1           1        2011            1            6   \n",
      "1         47883           1           1        2011            1            8   \n",
      "\n",
      "   ano_entrega    metodo_envio  numero_cliente   nombre_cliente  ... cantidad  \\\n",
      "0         2011  Standard Class           11280  Toby Braunhardt  ...        2   \n",
      "1         2011  Standard Class           15985      Joseph Holt  ...        3   \n",
      "\n",
      "  descuento utilidad costo_envio prioridad_envio  fecha_salida  fecha_entrega  \\\n",
      "0       0.0  106.140       35.46          Medium    2011-01-01     2011-01-06   \n",
      "1       0.1   36.036        9.72          Medium    2011-01-01     2011-01-08   \n",
      "\n",
      "   duracion_envio       id_venta  id_cliente  \n",
      "0               5   AL-2011-2040    TB-11280  \n",
      "1               7  AU-2011-47883    JH-15985  \n",
      "\n",
      "[2 rows x 26 columns]\n"
     ]
    }
   ],
   "source": [
    "def agregar_mercado_region(df: pd.DataFrame, regiones_df: pd.DataFrame) -> pd.DataFrame:\n",
    "    try:\n",
    "        # Asegurarse de que la columna 'pais' esté limpia en ambos DataFrames\n",
    "        df['pais'] = df['pais'].astype(str).str.strip()\n",
    "        regiones_df['pais'] = regiones_df['pais'].astype(str).str.strip()\n",
    "\n",
    "        # Unir los DataFrames por la columna 'pais'\n",
    "        df = df.merge(regiones_df[['pais', 'mercado', 'region']], on='pais', how='left')\n",
    "\n",
    "    except Exception as e:\n",
    "        print(f\"Error al agregar mercado y región: {e}\")\n",
    "\n",
    "    return df\n",
    "\n",
    "\n",
    "# Verificar las nuevas columnas\n",
    "print(df.head(2))\n",
    "\n"
   ]
  },
  {
   "cell_type": "markdown",
   "id": "102a9b69",
   "metadata": {},
   "source": [
    "Agrega las columnas categoría, sub_categoría y nombre_producto obteniéndolas de la \n",
    "columna ID-Producto y la Hoja Productos."
   ]
  },
  {
   "cell_type": "code",
   "execution_count": null,
   "id": "234a2aad",
   "metadata": {},
   "outputs": [
    {
     "name": "stdout",
     "output_type": "stream",
     "text": [
      "        id_producto        categoria sub_categoria           nombre_producto\n",
      "0  OFF-TEN-10000025  Office Supplies       Storage       Tenex Lockers, Blue\n",
      "1   OFF-SU-10000618  Office Supplies      Supplies  Acme Trimmer, High Speed\n",
      "Index(['numero_venta', 'mes_salida', 'dia_salida', 'ano_salida', 'mes_entrega',\n",
      "       'dia_entrega', 'ano_entrega', 'metodo_envio', 'numero_cliente',\n",
      "       'nombre_cliente', 'segmento', 'ciudad', 'estado', 'pais', 'id_producto',\n",
      "       'ventas', 'cantidad', 'descuento', 'utilidad', 'costo_envio',\n",
      "       'prioridad_envio', 'fecha_salida', 'fecha_entrega', 'duracion_envio',\n",
      "       'id_venta', 'id_cliente', 'mercado', 'region', 'categoria_x',\n",
      "       'sub_categoria_x', 'nombre_producto_x', 'categoria_y',\n",
      "       'sub_categoria_y', 'nombre_producto_y', 'categoria', 'sub_categoria',\n",
      "       'nombre_producto'],\n",
      "      dtype='object')\n"
     ]
    }
   ],
   "source": [
    "def agregar_mercado_region(df: pd.DataFrame, regiones_df: pd.DataFrame) -> pd.DataFrame:\n",
    "    try:\n",
    "        # Limpiar la columna 'pais' en ambos DataFrames\n",
    "        df['pais'] = df['pais'].astype(str).str.strip()\n",
    "        regiones_df['pais'] = regiones_df['pais'].astype(str).str.strip()\n",
    "\n",
    "        # Unir por 'pais'\n",
    "        df = df.merge(regiones_df[['pais', 'mercado', 'region']], on='pais', how='left')\n",
    "\n",
    "    except Exception as e:\n",
    "        print(f\"Error al agregar mercado y región: {e}\")\n",
    "\n",
    "    return df\n",
    "\n",
    "\n",
    "# Verificar resultado\n",
    "print(df[['id_producto', 'categoria', 'sub_categoria', 'nombre_producto']].drop_duplicates().head(2))\n",
    "print(df.columns)\n"
   ]
  },
  {
   "cell_type": "markdown",
   "id": "814f821a",
   "metadata": {},
   "source": []
  },
  {
   "cell_type": "code",
   "execution_count": null,
   "id": "5d7887db",
   "metadata": {},
   "outputs": [
    {
     "name": "stdout",
     "output_type": "stream",
     "text": [
      "   utilidad resultado_venta\n",
      "0   106.140        Ganancia\n",
      "1    36.036        Ganancia\n",
      "2    29.640        Ganancia\n",
      "3   -26.055         Pérdida\n",
      "4    37.770        Ganancia\n"
     ]
    }
   ],
   "source": [
    "def agregar_resultado_venta(df: pd.DataFrame) -> pd.DataFrame:\n",
    "    try:\n",
    "        # Verificar que exista la columna 'utilidad'\n",
    "        if 'utilidad' in df.columns:\n",
    "            df['resultado_venta'] = df['utilidad'].apply(\n",
    "                lambda x: 'Ganancia' if x > 0 else ('Pérdida' if x < 0 else 'Neutro')\n",
    "            )\n",
    "        else:\n",
    "            print(\"Columna 'utilidad' no encontrada en el DataFrame.\")\n",
    "\n",
    "    except Exception as e:\n",
    "        print(f\"Error al agregar columna 'resultado_venta': {e}\")\n",
    "\n",
    "    return df\n",
    "\n",
    "ventas_df = agregar_resultado_venta(ventas_df)\n",
    "\n",
    "# Verificamos el resultado\n",
    "print(ventas_df[['utilidad', 'resultado_venta']].head())\n"
   ]
  },
  {
   "cell_type": "code",
   "execution_count": null,
   "id": "0e0a3799",
   "metadata": {},
   "outputs": [
    {
     "name": "stdout",
     "output_type": "stream",
     "text": [
      "Index(['numero_venta', 'mes_salida', 'dia_salida', 'ano_salida', 'mes_entrega',\n",
      "       'dia_entrega', 'ano_entrega', 'metodo_envio', 'numero_cliente',\n",
      "       'nombre_cliente', 'segmento', 'ciudad', 'estado', 'pais', 'id_producto',\n",
      "       'ventas', 'cantidad', 'descuento', 'utilidad', 'costo_envio',\n",
      "       'prioridad_envio', 'fecha_salida', 'fecha_entrega', 'duracion_envio',\n",
      "       'id_venta', 'id_cliente', 'mercado', 'region', 'categoria_x',\n",
      "       'sub_categoria_x', 'nombre_producto_x', 'categoria_y',\n",
      "       'sub_categoria_y', 'nombre_producto_y', 'categoria', 'sub_categoria',\n",
      "       'nombre_producto'],\n",
      "      dtype='object')\n",
      "   numero_venta  mes_salida  dia_salida  ano_salida  mes_entrega  dia_entrega  \\\n",
      "0          2040           1           1        2011            1            6   \n",
      "1         47883           1           1        2011            1            8   \n",
      "2          1220           1           1        2011            1            5   \n",
      "3       3647632           1           1        2011            1            5   \n",
      "4         47883           1           1        2011            1            8   \n",
      "\n",
      "   ano_entrega    metodo_envio  numero_cliente   nombre_cliente  ...   region  \\\n",
      "0         2011  Standard Class           11280  Toby Braunhardt  ...   Africa   \n",
      "1         2011  Standard Class           15985      Joseph Holt  ...  Oceania   \n",
      "2         2011    Second Class             735    Annie Thurman  ...     EMEA   \n",
      "3         2011    Second Class           14140     Eugene Moren  ...    North   \n",
      "4         2011  Standard Class           15985      Joseph Holt  ...  Oceania   \n",
      "\n",
      "       categoria_x sub_categoria_x            nombre_producto_x  \\\n",
      "0  Office Supplies         Storage          Tenex Lockers, Blue   \n",
      "1  Office Supplies        Supplies     Acme Trimmer, High Speed   \n",
      "2  Office Supplies         Storage      Tenex Box, Single Width   \n",
      "3  Office Supplies           Paper  Enermax Note Cards, Premium   \n",
      "4        Furniture     Furnishings   Eldon Light Bulb, Duo Pack   \n",
      "\n",
      "       categoria_y  sub_categoria_y            nombre_producto_y  \\\n",
      "0  Office Supplies          Storage          Tenex Lockers, Blue   \n",
      "1  Office Supplies         Supplies     Acme Trimmer, High Speed   \n",
      "2  Office Supplies          Storage      Tenex Box, Single Width   \n",
      "3  Office Supplies            Paper  Enermax Note Cards, Premium   \n",
      "4        Furniture      Furnishings   Eldon Light Bulb, Duo Pack   \n",
      "\n",
      "         categoria  sub_categoria              nombre_producto  \n",
      "0  Office Supplies        Storage          Tenex Lockers, Blue  \n",
      "1  Office Supplies       Supplies     Acme Trimmer, High Speed  \n",
      "2  Office Supplies        Storage      Tenex Box, Single Width  \n",
      "3  Office Supplies          Paper  Enermax Note Cards, Premium  \n",
      "4        Furniture    Furnishings   Eldon Light Bulb, Duo Pack  \n",
      "\n",
      "[5 rows x 37 columns]\n"
     ]
    }
   ],
   "source": [
    "print(df.columns)\n",
    "print(df.head())"
   ]
  },
  {
   "cell_type": "markdown",
   "id": "4ccbd762",
   "metadata": {},
   "source": [
    "Salida"
   ]
  },
  {
   "cell_type": "code",
   "execution_count": 10,
   "id": "b399d9db",
   "metadata": {},
   "outputs": [
    {
     "name": "stdout",
     "output_type": "stream",
     "text": [
      "Archivos exportados correctamente:\n",
      "✔ Excel: ../data/processed\\sales_report_final.xlsx\n",
      "✔ CSV: ../data/processed\\sales_report_final.csv\n"
     ]
    }
   ],
   "source": [
    "# Crear carpeta si no existe\n",
    "import os\n",
    "\n",
    "# Definir ruta de salida\n",
    "output_folder = \"../data/processed\"\n",
    "os.makedirs(output_folder, exist_ok=True)\n",
    "\n",
    "# Rutas completas para guardar\n",
    "ruta_excel_final = os.path.join(output_folder, \"sales_report_final.xlsx\")\n",
    "ruta_csv_final = os.path.join(output_folder, \"sales_report_final.csv\")\n",
    "\n",
    "# Guardar en formato Excel\n",
    "df.to_excel(ruta_excel_final, index=False)\n",
    "\n",
    "# Guardar en formato CSV\n",
    "df.to_csv(ruta_csv_final, index=False, encoding='utf-8')\n",
    "\n",
    "print(\"Archivos exportados correctamente:\")\n",
    "print(\"✔ Excel:\", ruta_excel_final)\n",
    "print(\"✔ CSV:\", ruta_csv_final)\n"
   ]
  }
 ],
 "metadata": {
  "kernelspec": {
   "display_name": "base",
   "language": "python",
   "name": "python3"
  },
  "language_info": {
   "codemirror_mode": {
    "name": "ipython",
    "version": 3
   },
   "file_extension": ".py",
   "mimetype": "text/x-python",
   "name": "python",
   "nbconvert_exporter": "python",
   "pygments_lexer": "ipython3",
   "version": "3.12.7"
  }
 },
 "nbformat": 4,
 "nbformat_minor": 5
}
